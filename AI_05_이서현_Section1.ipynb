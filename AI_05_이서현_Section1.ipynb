{
  "nbformat": 4,
  "nbformat_minor": 0,
  "metadata": {
    "colab": {
      "name": "AI_05_이서현_Section1.ipynb",
      "private_outputs": true,
      "provenance": []
    },
    "kernelspec": {
      "name": "python3",
      "display_name": "Python 3"
    },
    "language_info": {
      "name": "python"
    }
  },
  "cells": [
    {
      "cell_type": "markdown",
      "metadata": {
        "id": "0RUj39smMxPu"
      },
      "source": [
        "## **PROJECT 1**\n",
        "\n",
        "### **'다음 분기에 어떤 게임을 설계해야하는가?'**\n",
        "\n",
        "\n",
        "\n",
        "\n",
        "#### **주요 분석**\n",
        "\n",
        "> * `지역에 따라 선호하는 게임 장르가 다른지`\n",
        "* `연도별 게임 트렌드가 존재하는지`\n",
        "* `출고량이 높은 게임에 대해 분석 및 시각화`\n",
        "\n",
        "\n",
        "\n",
        "\n"
      ]
    },
    {
      "cell_type": "markdown",
      "metadata": {
        "id": "nzxnj5GbeWVq"
      },
      "source": [
        "### **1.데이터 전처리**"
      ]
    },
    {
      "cell_type": "code",
      "metadata": {
        "id": "TlSrAOkTMm_J"
      },
      "source": [
        "# 데이터 불러오기\n",
        "\n",
        "import pandas as pd\n",
        "\n",
        "df = pd.read_csv('/content/vgames2.csv')\n",
        "df"
      ],
      "execution_count": null,
      "outputs": []
    },
    {
      "cell_type": "markdown",
      "metadata": {
        "id": "iXA7LjstkFIA"
      },
      "source": [
        "**EDA (Exploratory Data Analysis)**"
      ]
    },
    {
      "cell_type": "code",
      "metadata": {
        "id": "WJwHls01fFBV"
      },
      "source": [
        "df.dtypes\n",
        "\n",
        "#각 지역 출고량이 object형태임을 확인"
      ],
      "execution_count": null,
      "outputs": []
    },
    {
      "cell_type": "code",
      "metadata": {
        "id": "PBynj5WuntT3"
      },
      "source": [
        "df = df.drop(['Unnamed: 0'],axis=1) #불필요한 컬럼 제거"
      ],
      "execution_count": null,
      "outputs": []
    },
    {
      "cell_type": "code",
      "metadata": {
        "id": "ju7bG38aoP_b"
      },
      "source": [
        " df.isnull().sum() #결측값 확인"
      ],
      "execution_count": null,
      "outputs": []
    },
    {
      "cell_type": "code",
      "metadata": {
        "id": "kyQytaWmo-bG"
      },
      "source": [
        "df1 = df.dropna(axis=0) #결측값 제거\n",
        "df1 = df1.reset_index(drop = True) #Reindex\n",
        "df1"
      ],
      "execution_count": null,
      "outputs": []
    },
    {
      "cell_type": "code",
      "metadata": {
        "id": "MKPA9QsbqThl"
      },
      "source": [
        "#각 지역 출고량 형변환\n",
        "def sales(x) :\n",
        "  if x[-1:] == 'K' :\n",
        "    x1 = pd.to_numeric(x[:-1]) * 1000\n",
        "    return x1\n",
        "  elif x[-1:] == 'M' :\n",
        "    x1 = pd.to_numeric(x[:-1]) * 1000000\n",
        "    return x1\n",
        "  else :\n",
        "    x1 = pd.to_numeric(x) * 1000000\n",
        "    return x1"
      ],
      "execution_count": null,
      "outputs": []
    },
    {
      "cell_type": "code",
      "metadata": {
        "id": "aqtW4lFwsFUT"
      },
      "source": [
        "#함수 적용\n",
        "df1['NA_Sales']=df1['NA_Sales'].apply(sales)\n",
        "df1['EU_Sales']=df1['EU_Sales'].apply(sales)\n",
        "df1['JP_Sales']=df1['JP_Sales'].apply(sales)\n",
        "df1['Other_Sales']=df1['Other_Sales'].apply(sales)"
      ],
      "execution_count": null,
      "outputs": []
    },
    {
      "cell_type": "code",
      "metadata": {
        "id": "1372kJp6YAl-"
      },
      "source": [
        "import matplotlib.pyplot as plt\n",
        "\n",
        "#지역 별 출고량 분포\n",
        "\n",
        "plt.figure(figsize=(10,5))\n",
        "plt.boxplot([df1['NA_Sales'],df1['EU_Sales'],df1['JP_Sales'],df1['Other_Sales']])\n",
        "plt.xticks([1, 2, 3, 4], ['NA_Sales', 'EU_Sales', 'JP_Sales', 'Other_Sales']) #label 붙이기\n",
        "plt.show()"
      ],
      "execution_count": null,
      "outputs": []
    },
    {
      "cell_type": "markdown",
      "metadata": {
        "id": "Qc1X07f4Z21D"
      },
      "source": [
        "0~20000000 사이에 밀집되어 분포하고 있다.\n"
      ]
    },
    {
      "cell_type": "code",
      "metadata": {
        "id": "8R8erzd1snUO"
      },
      "source": [
        "#year 변환\n",
        "def year(x):\n",
        "    if len(str(int(x))) == 1:\n",
        "        x = x+2000\n",
        "    elif len(str(int(x))) == 2:\n",
        "        if int(x) <= 25:\n",
        "            x = x+2000\n",
        "        else:\n",
        "            x = x+1900\n",
        "    return x\n",
        "\n",
        "#함수 적용\n",
        "df1['Year'] = df1['Year'].apply(year)\n",
        "df1['Year']"
      ],
      "execution_count": null,
      "outputs": []
    },
    {
      "cell_type": "code",
      "metadata": {
        "id": "t0h0_RCz72i_"
      },
      "source": [
        "plt.hist(df1['Year'])\n",
        "plt.title('Year histogram')\n",
        "plt.show()"
      ],
      "execution_count": null,
      "outputs": []
    },
    {
      "cell_type": "markdown",
      "metadata": {
        "id": "oE81vYQXkklD"
      },
      "source": [
        "###**2.분석 및 결과**\n",
        "\n",
        "###**1) 분석**\n",
        "*   지역에 따라 선호하는 게임 장르가 다른가?\n"
      ]
    },
    {
      "cell_type": "markdown",
      "metadata": {
        "id": "IDsKy3CJTBSY"
      },
      "source": [
        "PCA 실행\n",
        "\n",
        "> : 장르별로 각 지역에 대해 게임 출고량은 어떠한 관계를 보이는가"
      ]
    },
    {
      "cell_type": "code",
      "metadata": {
        "id": "xlOXxHM9QaNv"
      },
      "source": [
        "#장르 별 합계\n",
        "na = df1.groupby('Genre')['NA_Sales'].sum()\n",
        "eu = df1.groupby('Genre')['EU_Sales'].sum()\n",
        "jp = df1.groupby('Genre')['JP_Sales'].sum()\n",
        "other = df1.groupby('Genre')['Other_Sales'].sum()\n",
        "\n",
        "\n",
        "\n",
        "sum_genre = pd.concat([na,eu,jp,other],axis=1).T.reindex()\n",
        "sum_genre"
      ],
      "execution_count": null,
      "outputs": []
    },
    {
      "cell_type": "code",
      "metadata": {
        "id": "BeBsVKZeREYb"
      },
      "source": [
        "#표준점수 구하기\n",
        "from sklearn.preprocessing import StandardScaler\n",
        "x = sum_genre.values # 독립변인들의 value값만 추출\n",
        "y = sum_genre.index # 종속변인 추출\n",
        "\n",
        "x = StandardScaler().fit_transform(x) # x객체에 x를 표준화한 데이터를 저장\n",
        "\n",
        "features = ['Action',\t'Adventure',\t'Fighting',\t'Misc',\t'Platform',\t'Puzzle',\t'Racing',\t'Role-Playing',\t'Shooter',\t'Simulation',\t'Sports',\t'Strategy']\n",
        "pd.DataFrame(x, columns=features)"
      ],
      "execution_count": null,
      "outputs": []
    },
    {
      "cell_type": "code",
      "metadata": {
        "id": "GBtMaVmNTSjB"
      },
      "source": [
        "from sklearn.decomposition import PCA\n",
        "\n",
        "pca = PCA(n_components=2) # 주성분 개수 결정\n",
        "printcipalComponents = pca.fit_transform(x)\n",
        "principalDf = pd.DataFrame(data=printcipalComponents, columns = ['PC1', 'PC2'])\n",
        "\n",
        "principalDf # 주성분으로 이루어진 데이터 프레임 구성"
      ],
      "execution_count": null,
      "outputs": []
    },
    {
      "cell_type": "code",
      "metadata": {
        "id": "k1jy_7fbYleo"
      },
      "source": [
        "d_genre= pd.DataFrame({'local':['NA_Sales','EU_Sales','JP_Sales','Other_Sales']})\n",
        "\n",
        "finalDf = pd.concat([principalDf,d_genre],axis=1)\n",
        "\n",
        "finalDf"
      ],
      "execution_count": null,
      "outputs": []
    },
    {
      "cell_type": "code",
      "metadata": {
        "id": "oaIf1vua9fMa"
      },
      "source": [
        "pca.explained_variance_ratio_"
      ],
      "execution_count": null,
      "outputs": []
    },
    {
      "cell_type": "code",
      "metadata": {
        "id": "mLh-RUFKUNgw"
      },
      "source": [
        "import matplotlib.pyplot as plt\n",
        "\n",
        "\n",
        "fig = plt.figure(figsize = (8, 8))\n",
        "ax = fig.add_subplot(1, 1, 1)\n",
        "ax.set_xlabel('Principal Component 1', fontsize = 15)\n",
        "ax.set_ylabel('Principal Component 2', fontsize = 15)\n",
        "ax.set_title('PCA', fontsize=20)\n",
        "\n",
        "targets = ['NA_Sales',\t'EU_Sales',\t'JP_Sales',\t'Other_Sales']\n",
        "\n",
        "for target, color in zip(targets,colors):\n",
        "    indicesToKeep = finalDf['local'] == target\n",
        "    ax.scatter(finalDf.loc[indicesToKeep, 'PC1']\n",
        "               , finalDf.loc[indicesToKeep, 'PC2']\n",
        "               , c = color\n",
        "               , s = 50)\n",
        "ax.legend(targets)\n",
        "ax.grid()"
      ],
      "execution_count": null,
      "outputs": []
    },
    {
      "cell_type": "markdown",
      "metadata": {
        "id": "854tFdUf-yK6"
      },
      "source": [
        "Japan을 제외하고 나머지는 유사하다고 볼 수 있다."
      ]
    },
    {
      "cell_type": "code",
      "metadata": {
        "id": "lPi0GVJvaDQ8"
      },
      "source": [
        "#장르 별 평균 집계\n",
        "df_na = df1.groupby('Genre')['NA_Sales'].mean()\n",
        "df_eu = df1.groupby('Genre')['EU_Sales'].mean()\n",
        "df_jp = df1.groupby('Genre')['JP_Sales'].mean()\n",
        "df_other = df1.groupby('Genre')['Other_Sales'].mean()\n",
        "\n",
        "\n",
        "df_by_genre = pd.concat([df_na,df_eu,df_jp,df_other], axis=1)\n",
        "df_by_genre"
      ],
      "execution_count": null,
      "outputs": []
    },
    {
      "cell_type": "code",
      "metadata": {
        "id": "DHmsHaBNXR1z"
      },
      "source": [
        "from scipy import stats\n"
      ],
      "execution_count": null,
      "outputs": []
    },
    {
      "cell_type": "code",
      "metadata": {
        "id": "xhdYAWPycf1Y"
      },
      "source": [
        "df_by_genre.plot(kind='line',figsize = (15,10), rot=0)\n",
        "\n",
        "plt.title('Aggregation by genre')\n",
        "\n",
        "plt.legend(fontsize='13')\n",
        "\n",
        "plt.show()\n"
      ],
      "execution_count": null,
      "outputs": []
    },
    {
      "cell_type": "markdown",
      "metadata": {
        "id": "-pQxOfKxi807"
      },
      "source": [
        "Japan 을 제외한 나머지 지역들은 패턴의 유사성을 갖고 있다.\n",
        "\n",
        "\n",
        "\n",
        "\n",
        "따라서, Japan을 제외한 나머지 지역들의 선호하는 게임 장르는 유사하다.\n",
        "\n",
        "\n",
        "\n",
        "\n",
        "\n",
        "\n",
        "\n"
      ]
    },
    {
      "cell_type": "markdown",
      "metadata": {
        "id": "7BMmTpqnkKcB"
      },
      "source": [
        "\n",
        "\n",
        "*   연도별 게임의 트렌드가 존재하는가?\n",
        "\n",
        "\n"
      ]
    },
    {
      "cell_type": "code",
      "metadata": {
        "id": "R3yPdWbA_YSy"
      },
      "source": [
        "df1['total'] = df1['NA_Sales'] + df1['JP_Sales'] + df1['EU_Sales'] + df1['Other_Sales'] #total 게임 출고량 "
      ],
      "execution_count": null,
      "outputs": []
    },
    {
      "cell_type": "code",
      "metadata": {
        "id": "6tWieDMz_nkB"
      },
      "source": [
        "#1. 연도별 게임 총 출고량\n",
        "df_year = df1.groupby('Year')['total'].sum()\n",
        "\n",
        "#시각화\n",
        "plt.plot(df_year)\n",
        "plt.title('Game Total Shipment by Yearly')\n",
        "plt.show()"
      ],
      "execution_count": null,
      "outputs": []
    },
    {
      "cell_type": "code",
      "metadata": {
        "id": "sW94nfV6Ag1O"
      },
      "source": [
        "#2. 연도별 게임 장르의 트렌드\n",
        "year_genre = df1.groupby(['Year','Genre']).size().reset_index(name='count')\n",
        "year_max = year_genre.groupby(['Year'])['count'].transform(max) == year_genre['count']\n",
        "year_max_genre = year_genre[year_max].reset_index(drop=True)\n",
        "\n",
        "#중복값 제외\n",
        "year_max_genre = year_max_genre.drop_duplicates(subset=['Year','count'], keep='last').reset_index(drop=True)\n",
        "year_max_genre[:5]\n",
        "year_max_genre.columns = ['Year','Genre','Sheepment']\n",
        "year_max_genre"
      ],
      "execution_count": null,
      "outputs": []
    },
    {
      "cell_type": "code",
      "metadata": {
        "id": "eF3j5oy6mujG"
      },
      "source": [
        "#시각화\n",
        "import seaborn as sns\n",
        "\n",
        "plt.figure(figsize = (25,15))\n",
        "ax = sns.barplot(x='Year', y='Sheepment', data=year_max_genre)\n",
        "idx = 0\n",
        "for value in year_max_genre['Sheepment']:\n",
        "  ax.text(x=idx,y=value+5, s=str(year_max_genre['Genre'].values[idx]),size=14,rotation=90,ha='center')\n",
        "  idx += 1\n",
        "plt.xlabel('Year', fontsize=15)\n",
        "plt.ylabel('Sheepment', fontsize=15)\n",
        "ax.set_title('Genre with Top Annual Releases')\n",
        "plt.show()"
      ],
      "execution_count": null,
      "outputs": []
    },
    {
      "cell_type": "markdown",
      "metadata": {
        "id": "vN58xpuGz6eT"
      },
      "source": [
        "장르 중 Action이 최신 트랜드라고 볼 수 있다."
      ]
    },
    {
      "cell_type": "markdown",
      "metadata": {
        "id": "RaesgkRjIte5"
      },
      "source": [
        "\n",
        "* 출고량이 높은 게임에 대해 분석 및 시각화\n",
        "\n",
        "\n",
        "\n",
        "\n",
        "\n"
      ]
    },
    {
      "cell_type": "code",
      "metadata": {
        "id": "XLngc2gwZyJd"
      },
      "source": [
        "df3 = df1.copy()\n",
        "df3.index = df3['Name']\n",
        "\n",
        "# top3\n",
        "print('전체 출고량 top3 : \\n', df3['total'].nlargest(3)) \n",
        "print('\\n최근 출고량 top3 : \\n', df3[df3['Year'] >= 2015]['total'].nlargest(3))"
      ],
      "execution_count": null,
      "outputs": []
    },
    {
      "cell_type": "code",
      "metadata": {
        "id": "K2peaIqTdyQf"
      },
      "source": [
        "#최근 장르별 순위\n",
        "import seaborn as sns\n",
        "\n",
        "trend = df3[df3['Year'] >= 2015].iloc[:100]['Genre'].value_counts()\n",
        "trend = pd.DataFrame(trend)\n",
        "trend.reset_index(inplace = True)\n",
        "trend.columns = ['Genre', 'count']\n",
        "\n",
        "trend"
      ],
      "execution_count": null,
      "outputs": []
    },
    {
      "cell_type": "code",
      "metadata": {
        "id": "3LypCaJ69t9U"
      },
      "source": [
        "plt.figure(figsize=(11,8))\n",
        "\n",
        "sns.barplot(x = 'Genre', y = 'count', data = trend, hue = 'Genre').set(title = \"Top Genre Rankings Reflecting Recent Trends\")"
      ],
      "execution_count": null,
      "outputs": []
    },
    {
      "cell_type": "code",
      "metadata": {
        "id": "r3dNbZVavOp9"
      },
      "source": [
        "#최근 장르별 출고량 평균 순위\n",
        "Genre_total_trend = pd.DataFrame(df3[df3['Year']>=2015].groupby('Genre')['total'].mean())\n",
        "Genre_total_trend.reset_index(inplace = True)\n",
        "Genre_total_trend.sort_values('total', ascending = False, inplace = True)\n",
        "\n",
        "Genre_total_trend"
      ],
      "execution_count": null,
      "outputs": []
    },
    {
      "cell_type": "code",
      "metadata": {
        "id": "d7ZcH0nq-kL3"
      },
      "source": [
        "#시각화\n",
        "plt.figure(figsize = (12,8))\n",
        "\n",
        "sns.barplot(x='Genre', y='total', data=Genre_total_trend).set(title='Release Average Rank by Latest Genre')"
      ],
      "execution_count": null,
      "outputs": []
    },
    {
      "cell_type": "markdown",
      "metadata": {
        "id": "b1RQA41wRQCe"
      },
      "source": [
        "ANOVA \n",
        "\n",
        "\n",
        "> Shooter, Sports, Role-Playing 과연 출고량에서 유의미한 차이가 있을까?\n",
        "\n"
      ]
    },
    {
      "cell_type": "code",
      "metadata": {
        "id": "2kbfRVRSvYuq"
      },
      "source": [
        "# 출고량 top 3 Genre 평균 비교\n",
        "from scipy import stats\n",
        "trend2 = df3[df3['Year'] >= 2015]\n",
        "\n",
        "group1 = trend2[trend2['Genre'] == 'Shooter']['total']\n",
        "group2 = trend2[trend2['Genre'] == 'Sports']['total']\n",
        "group3 = trend2[trend2['Genre'] == 'Role-Playing']['total']\n",
        "\n",
        "#Shooter, Sports , Role-playing ANOVA\n",
        "p_value_ano = stats.f_oneway(group1, group2, group3).pvalue\n",
        "\n",
        "if p_value_ano < 0.05:\n",
        "    print('Shooter, Sports, Role-Playing 세 그룹간 평균이 적어도 하나는 유의미하게 차이납니다.')\n",
        "else:\n",
        "    print('Shooter, Sports, Role-Playing 세 그룹간 평균이 유의미하게 차이나지 않습니다.')"
      ],
      "execution_count": null,
      "outputs": []
    },
    {
      "cell_type": "code",
      "metadata": {
        "id": "TkpOA35W5Op8"
      },
      "source": [
        "#등분산 test\n",
        "p_value_var = stats.levene(group1, group2).pvalue\n",
        "\n",
        "if p_value_var >= 0.05:\n",
        "    print('Shooter, Sports 두 그룹은 등분산이다.')\n",
        "else:\n",
        "    print('Shooter, Sports 두 그룹은 등분산이 아니다.')\n",
        "\n",
        "#독립 t-test, 단측검정:\n",
        "p_value_t = stats.ttest_ind(group1, group2, equal_var = False).pvalue\n",
        "\n",
        "if p_value_t >= 0.05:\n",
        "    print('Shooter, Sports 두 그룹간 평균이 유의미하게 차이나지 않습니다.')\n",
        "else:\n",
        "    print('Shooter, Sports 두 그룹간 평균이 Shooter가 더 크다.')"
      ],
      "execution_count": null,
      "outputs": []
    },
    {
      "cell_type": "code",
      "metadata": {
        "id": "lWbFh-R666fF"
      },
      "source": [
        "#최근 shooter를 통한 CI 계산\n",
        "import numpy as np\n",
        "avg = np.mean(group1)\n",
        "se = np.std(group1)/np.sqrt(len(group1))\n",
        "\n",
        "ci = stats.t.interval(.95, loc = avg, scale = se, df = len(group1)-1)\n",
        "\n",
        "print('Shooter 평균 출고량의 confidence interval : ', (round(ci[0],3), round(ci[1], 3))) "
      ],
      "execution_count": null,
      "outputs": []
    },
    {
      "cell_type": "code",
      "metadata": {
        "id": "wQU6j5MI-u6o"
      },
      "source": [
        "# 최근 평균 출고량이 가장 높은 플랫폼\n",
        "\n",
        "Platform_total_trend = pd.DataFrame(df3[df3['Year']>=2015].groupby('Platform')['total'].mean())\n",
        "Platform_total_trend.reset_index(inplace = True)\n",
        "Platform_total_trend.sort_values('total', ascending = False, inplace = True)\n",
        "\n",
        "plt.figure(figsize = (10,6))\n",
        "\n",
        "sns.barplot(x='Platform', y='total', data=Platform_total_trend)\n",
        "plt.title('Platform with the highest average shipments recently')"
      ],
      "execution_count": null,
      "outputs": []
    },
    {
      "cell_type": "code",
      "metadata": {
        "id": "7hS1tIAf-6m9"
      },
      "source": [
        "#PS4에서 shooter 게임을 잘 만드는지\n",
        "\n",
        "#PS4에서 만든 많이 만든 장르 순위\n",
        "PS4 = df3[df3['Platform']=='PS4']\n",
        "\n",
        "PS4['Genre'].value_counts()"
      ],
      "execution_count": null,
      "outputs": []
    },
    {
      "cell_type": "code",
      "metadata": {
        "id": "Nsed_fPS_AtJ"
      },
      "source": [
        "#PS4 회사에서 만든 장르별 총 출고량 순위\n",
        "PS4.groupby('Genre')['total'].sum().sort_values(ascending=False)"
      ],
      "execution_count": null,
      "outputs": []
    },
    {
      "cell_type": "code",
      "metadata": {
        "id": "FJ2i1CQE_EJA"
      },
      "source": [
        "#PS4에서 만든 장르별 총 출고량 평균 순위\n",
        "PS4.groupby('Genre')['total'].mean().sort_values(ascending=False)"
      ],
      "execution_count": null,
      "outputs": []
    },
    {
      "cell_type": "code",
      "metadata": {
        "id": "odTI_dVl_IAL"
      },
      "source": [
        "#shooter을 가장 많이 출고한 platform\n",
        "\n",
        "shooter_platform = pd.DataFrame(df3[df3['Genre'] == 'Shooter'].groupby('Platform')['total'].sum().sort_values(ascending=False))\n",
        "shooter_platform.reset_index(inplace = True)\n",
        "\n",
        "shooter_platform"
      ],
      "execution_count": null,
      "outputs": []
    },
    {
      "cell_type": "code",
      "metadata": {
        "id": "jbAIf7HA_QiI"
      },
      "source": [
        "#시각화\n",
        "plt.figure(figsize=(10,6))\n",
        "\n",
        "sns.barplot(x='Platform', y='total', data=shooter_platform).set(title='The platform with the most Shooter shipped')"
      ],
      "execution_count": null,
      "outputs": []
    },
    {
      "cell_type": "markdown",
      "metadata": {
        "id": "SyLeDjj6DpkH"
      },
      "source": [
        "**독립성 검정(T-test)** : 관측값들이 다수의 인자들에 의해 분할 되어 있는 경우 그 인자들의 관찰 값에 영향을 주고 있는지 아닌지를 검정하는 방법\n",
        "\n",
        "\n",
        "* 귀무가설 : 독립이다. (연관성이 없다)\n",
        "* 대립가설 : 독립이 아니다.\n",
        "\n"
      ]
    },
    {
      "cell_type": "code",
      "metadata": {
        "id": "zh2fyj18_ULw"
      },
      "source": [
        "#장르 & 플랫폼 간의 연관성\n",
        "cross_chi  = df3[['Genre', 'Platform','total']]\n",
        "\n",
        "cross_chi"
      ],
      "execution_count": null,
      "outputs": []
    },
    {
      "cell_type": "code",
      "metadata": {
        "id": "Mq3g4ANpB2pb"
      },
      "source": [
        "cross_chi2 = pd.crosstab(cross_chi['Genre'], cross_chi['Platform'])\n",
        "\n",
        "cross_chi2"
      ],
      "execution_count": null,
      "outputs": []
    },
    {
      "cell_type": "code",
      "metadata": {
        "id": "x1LbmRTJCLb7"
      },
      "source": [
        "p_value_chi2 = stats.chi2_contingency(cross_chi2)[1]\n",
        "\n",
        "if p_value_chi2 < 0.05:\n",
        "    print('Genre와 Platform 사이의 연관성이 존재하지 않는다.(귀무가설 채택)')\n",
        "else:\n",
        "    print('Genre와 Platform 사이의 연관성이 존재한다.(대립가설 채택)')"
      ],
      "execution_count": null,
      "outputs": []
    },
    {
      "cell_type": "markdown",
      "metadata": {
        "id": "5OWRoiLM_c7I"
      },
      "source": [
        "장르와 플랫폼은 서로 독립적인 관계로 *'특정 플랫폼이 특정 장르를 독점하고 있지 않다'* 라고 볼 수 있다.\n",
        "\n",
        "\n",
        "1. 즉, 전체 플랫폼이 shooter에 대해 지원가능하며\n",
        "2. 이 중에서도 X360이 가장 높은 출고량을 갖는다.\n",
        "\n"
      ]
    },
    {
      "cell_type": "markdown",
      "metadata": {
        "id": "72GcmXVQGqPt"
      },
      "source": [
        "###**2) 결과**"
      ]
    },
    {
      "cell_type": "markdown",
      "metadata": {
        "id": "mxtyereWlSnq"
      },
      "source": [
        "\n",
        "\n",
        "\n",
        "*  Shooter 게임 위주\n",
        "*  X360 회사와의 콜라보레이션으로 런칭\n",
        "*  일본을 제외한 모든 나라에 수출\n",
        "*  이후 일본을 타겟으로 하여 마케팅 시도\n",
        "*  빠른 출시\n",
        "\n",
        "\n",
        "\n",
        "\n",
        "\n",
        "\n"
      ]
    }
  ]
}