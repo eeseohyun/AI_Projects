{
  "nbformat": 4,
  "nbformat_minor": 0,
  "metadata": {
    "colab": {
      "name": "AI_05_이서현_Section2.ipynb",
      "private_outputs": true,
      "provenance": [],
      "authorship_tag": "ABX9TyN1/WdR7+UXmvAV5+smRFrK",
      "include_colab_link": true
    },
    "kernelspec": {
      "name": "python3",
      "display_name": "Python 3"
    },
    "language_info": {
      "name": "python"
    }
  },
  "cells": [
    {
      "cell_type": "markdown",
      "metadata": {
        "id": "view-in-github",
        "colab_type": "text"
      },
      "source": [
        "<a href=\"https://colab.research.google.com/github/eeseohyun/project/blob/main/AI_05_%EC%9D%B4%EC%84%9C%ED%98%84_Section2.ipynb\" target=\"_parent\"><img src=\"https://colab.research.google.com/assets/colab-badge.svg\" alt=\"Open In Colab\"/></a>"
      ]
    },
    {
      "cell_type": "markdown",
      "metadata": {
        "id": "loUnrOW6Kq1p"
      },
      "source": [
        "# PROJECT2\n",
        "#: 데이터셋을 이용하여 만든 머신러닝 예측 모델을 통한 성능 및 인사이트 도출 및 공유"
      ]
    },
    {
      "cell_type": "markdown",
      "metadata": {
        "id": "3X4F0SwkHl-f"
      },
      "source": [
        "**1) 데이터 선정 이유 및 문제 정의**\n",
        "\n",
        "**2) 데이터를 이용한 가설 및 평가지표, 베이스라인 선택**\n",
        "   1. ```해당 특성을 타겟으로 지정한 이유```\n",
        "   2. ```해당 베이스라인 모델과 평가지표를 선택한 이유```\n",
        "\n",
        "**3) EDA와 데이터 전처리**\n",
        "1. EDA\n",
        "2. Feature Engineering\n",
        "3. 데이터의 정규화\n",
        "4. 노이즈 제거\n",
        "5. 결측치 제거 혹은 대체\n",
        "6. 데이터 밸런스\n",
        "7. 그 외\n",
        "\n",
        "**4) 머신러닝 방식 적용 및 교차검증**\n",
        "\n",
        "*   Linear / Tree-based / Ensemble 모델 학습\n",
        "*   평가지표 계산 및 베이스라인과의 비교\n",
        "*   교차 검증(이하 CV)을 통한 일반화 가능성 확인\n",
        "*   모델 성능을 개선하기 위한 다양한 방법 적용\n",
        "*   ```Hyperparameter tuning, etc.```\n",
        "\n",
        " 최소 2개 이상의 모델을 만들어서 validation 점수 보고\n",
        "*   최종 모델의 test 점수\n",
        "\n",
        "**5) 머신러닝 모델 해석**\n",
        "\n",
        "*   PDP, SHAP을 활용한 최종 모델 설명\n",
        "\n"
      ]
    },
    {
      "cell_type": "code",
      "metadata": {
        "id": "_VmFEHg3JbVR"
      },
      "source": [
        "#(1)data 선정 및 문제 정의"
      ],
      "execution_count": null,
      "outputs": []
    },
    {
      "cell_type": "code",
      "metadata": {
        "id": "70ylQlPoLOsH"
      },
      "source": [
        "import requests\n",
        "api_key = 'RGAPI-0ab7515f-5af3-4f9c-a62f-e73cdc7b40e9'\n",
        "url = 'https://kr.api.riotgames.com/lol/summoner/v4/summoners/by-name/' + '진리진영' +'?api_key=' + api_key\n",
        "r = requests.get(url)\n",
        "r.json()['id']"
      ],
      "execution_count": null,
      "outputs": []
    },
    {
      "cell_type": "code",
      "metadata": {
        "id": "B_2M2y_XJuaQ"
      },
      "source": [
        "#소환사 랭크정보 수집\n",
        "tier_url = 'https://kr.api.riotgames.com/lol/league/v4/entries/by-summoner/'+ r.json()['id'] +'?api_key=' + api_key\n",
        "r2  = requests.get(tier_url)\n",
        "r2.json()"
      ],
      "execution_count": null,
      "outputs": []
    },
    {
      "cell_type": "markdown",
      "metadata": {
        "id": "THyn3GqHRnSm"
      },
      "source": [
        "소환사 랭크 정보 수집 결과\n",
        "*   소환사 이름명 : 진리진영\n",
        "\n",
        "\n",
        "> 솔로랭크 5:5\n",
        "\n",
        "*   랭크(티어) : 실버4\n",
        "*   랭크점수(lp) : 53점\n",
        "*   승리 : 130회\n",
        "*   패배 : 152회\n",
        "\n",
        "> 자유랭크\n",
        "\n",
        "*   랭크(티어) : 브론즈2\n",
        "*   랭크점수(lp) : 29점\n",
        "*   승리 : 6회\n",
        "*   패배 : 6회\n",
        "\n",
        "\n",
        "\n",
        "\n",
        "\n",
        "\n",
        "\n",
        "\n",
        "\n"
      ]
    },
    {
      "cell_type": "code",
      "metadata": {
        "id": "g-gbks82UolM"
      },
      "source": [
        "silver_four = 'https://kr.api.riotgames.com/lol/league-exp/v4/entries/RANKED_SOLO_5x5/SILVER/IV?api_key=' + api_key\n",
        "r = requests.get(silver_four) #silver4 데이터 호출\n",
        "league_df = pd.DataFrame(r.json())\n",
        "league_df.head()"
      ],
      "execution_count": null,
      "outputs": []
    },
    {
      "cell_type": "markdown",
      "metadata": {
        "id": "DREVZpdibagM"
      },
      "source": [
        "문제점\n",
        "\n",
        "     : 승패에 대한 예측 모델을 작성하기 위해서는 경기가 끝난 정보들을 이용할 수 없다고 봄. 따라서 경기가 시작한 후 10분 경과된 데이터를 분석한 후 예측모델을 작성하려고 함\n"
      ]
    },
    {
      "cell_type": "code",
      "metadata": {
        "id": "ax2z6S86QkTP"
      },
      "source": [
        "!pip install plotly==4.10.0\n",
        "!pip install shap\n",
        "!pip install lightgbm\n",
        "!pip install bayesian-optimization"
      ],
      "execution_count": null,
      "outputs": []
    },
    {
      "cell_type": "code",
      "metadata": {
        "id": "sMmv5ZYMRK-n"
      },
      "source": [
        "import numpy as np \n",
        "import pandas as pd\n",
        "import plotly as py\n",
        "import plotly.express as px\n",
        "import plotly.graph_objs as go\n",
        "import plotly.graph_objects as go\n",
        "from plotly.subplots import make_subplots\n",
        "import seaborn as sns\n",
        "from sklearn.preprocessing import MinMaxScaler\n",
        "from sklearn.model_selection import train_test_split\n",
        "from sklearn.manifold import TSNE\n",
        "import matplotlib.pyplot as plt\n",
        "import lightgbm as lgb\n",
        "from bayes_opt import BayesianOptimization\n",
        "from sklearn.metrics import roc_auc_score\n",
        "import shap\n",
        "import warnings  \n",
        "warnings.filterwarnings('ignore')"
      ],
      "execution_count": null,
      "outputs": []
    },
    {
      "cell_type": "code",
      "metadata": {
        "id": "C0slqs9Ibgpy"
      },
      "source": [
        "# 데이터셋 다시 불러오기 (출처 : kaggle)\n",
        "import pandas as pd\n",
        "\n",
        "data = '/content/high_diamond_ranked_10min 2.csv'\n",
        "df = pd.read_csv(data)"
      ],
      "execution_count": null,
      "outputs": []
    },
    {
      "cell_type": "code",
      "metadata": {
        "id": "1viFAuup-taz"
      },
      "source": [
        "# column 확인\n",
        "print(df.info())"
      ],
      "execution_count": null,
      "outputs": []
    },
    {
      "cell_type": "code",
      "metadata": {
        "id": "H5JoGOU__fMm"
      },
      "source": [
        "# data 확인\n",
        "df.head()"
      ],
      "execution_count": null,
      "outputs": []
    },
    {
      "cell_type": "markdown",
      "metadata": {
        "id": "WeeJVzIHAzTL"
      },
      "source": [
        "**Blue VS Red Team** \n",
        "\n",
        "1. Game Rule\n",
        "\n",
        "\n",
        "> 단계적으로 상대팀의 각 라인에 있는 타워들과 억제기를 파괴함으로써 상대팀의 넥서스를 먼저 파괴하는 팀이 우승하게 된다.\n",
        "\n",
        "\n",
        "\n"
      ]
    },
    {
      "cell_type": "code",
      "metadata": {
        "id": "SY1aj7YBFP8k"
      },
      "source": [
        "color_discrete_map = {'Blue': 'rgb(122, 148, 231)', 'Red': 'rgb(255, 105, 97)'}\n",
        "\n",
        "\n",
        "fig = px.histogram(df, x=\"blueWins\", color = 'blueWins', color_discrete_map = color_discrete_map,\n",
        "                  labels={\"blueWins\": \"Teams\",\"count\": \"Wins\"\n",
        "                 },\n",
        "                title=\"Total Wins per Team\",\n",
        "                hover_name=\"blueWins\",       \n",
        "                  )\n",
        "\n",
        "py.offline.iplot(fig)"
      ],
      "execution_count": null,
      "outputs": []
    },
    {
      "cell_type": "markdown",
      "metadata": {
        "id": "gnbqkF2pGLJu"
      },
      "source": [
        "블루팀과 레드팀의 승패는 거의 동일하다."
      ]
    },
    {
      "cell_type": "markdown",
      "metadata": {
        "id": "k5pLdV9LGefX"
      },
      "source": [
        "2. Wards (와드/시야)\n",
        "\n",
        "\n",
        "> 지도의 특정 지역에서 안개를 제거하여 시야를 밝히는 것으로 구매 아이템을 통해 부여받을 수 있다.\n",
        "\n"
      ]
    },
    {
      "cell_type": "code",
      "metadata": {
        "id": "r_Tn2-ATHar1"
      },
      "source": [
        "color_discrete_map = {'Blue': 'rgb(122, 148, 231)', 'Red': 'rgb(255, 105, 97)'}\n",
        "\n",
        "layout = go.Layout(\n",
        "    yaxis=dict(\n",
        "        range=[5, 45]\n",
        "    ),\n",
        "    xaxis=dict(\n",
        "        range=[100, 200]\n",
        "    )\n",
        ")\n",
        "\n",
        "tmp1 = df[['blueWardsPlaced', 'blueWardsDestroyed']].copy()\n",
        "tmp1.columns = ['WardsPlaced','WardsDestroyed']\n",
        "tmp1 = tmp1.astype(float)\n",
        "tmp1['Team'] = 'Blue'\n",
        "tmp2 = df[['redWardsPlaced', 'redWardsDestroyed']].copy()\n",
        "tmp2.columns = ['WardsPlaced','WardsDestroyed']\n",
        "tmp2 = tmp2.astype(float)\n",
        "tmp2['Team'] = 'Red'\n",
        "\n",
        "data2 = pd.concat([tmp1, tmp2], ignore_index = True).sample(2000)\n",
        "data2"
      ],
      "execution_count": null,
      "outputs": []
    },
    {
      "cell_type": "code",
      "metadata": {
        "id": "_Ey2yDRvHbUV"
      },
      "source": [
        "fig1 = px.violin(data2, y=\"WardsPlaced\", color = 'Team',  box=True, points='all', color_discrete_map=color_discrete_map, title = 'Wards Placed per Team')\n",
        "\n",
        "fig1.show()"
      ],
      "execution_count": null,
      "outputs": []
    },
    {
      "cell_type": "markdown",
      "metadata": {
        "id": "boEJSkY7S-Cn"
      },
      "source": [
        "양쪽팀 대부분 게임 10분 동안 10개 ~ 25개 와드를 설치한다.\n",
        "\n",
        "배치된 와드 수의 분포는 비슷하다."
      ]
    },
    {
      "cell_type": "markdown",
      "metadata": {
        "id": "6WGPZSTwTd5I"
      },
      "source": [
        "2-1. Wards Destroyed\n",
        "\n"
      ]
    },
    {
      "cell_type": "code",
      "metadata": {
        "id": "5G6-U07MTdZx"
      },
      "source": [
        "fig1 = px.violin(data2, y=\"WardsDestroyed\", color = 'Team',  box=True, points='all', color_discrete_map=color_discrete_map, title = 'Wards Destroyed per Team')\n",
        "\n",
        "fig1.show()"
      ],
      "execution_count": null,
      "outputs": []
    },
    {
      "cell_type": "markdown",
      "metadata": {
        "id": "xhN2pSp4UGM6"
      },
      "source": [
        "평균적으로 2개 와드가 파괴되며, 주로 0과 6 사이에 분포하고 있다."
      ]
    },
    {
      "cell_type": "markdown",
      "metadata": {
        "id": "NWJ0GBKyMo85"
      },
      "source": [
        "3. First Bloods\n",
        "\n",
        "> 게임의 첫 챔피언 킬\n",
        "\n"
      ]
    },
    {
      "cell_type": "code",
      "metadata": {
        "id": "a3TTyEfwILin"
      },
      "source": [
        "color_discrete_map = {'Blue': 'rgb(122, 148, 231)', 'Red': 'rgb(255, 105, 97)'}\n",
        "\n",
        "tmp3 = df[['blueFirstBlood']].copy()\n",
        "tmp3.columns = ['FirstBloods']\n",
        "tmp3 = tmp3.astype(float)\n",
        "tmp3['Team'] = 'Blue'\n",
        "tmp4 = df[['redFirstBlood']].copy()\n",
        "tmp4.columns = ['FirstBloods']\n",
        "tmp4 = tmp4.astype(float)\n",
        "tmp4['Team'] = 'Red'\n",
        "data3 = pd.concat([tmp3, tmp4])\n",
        "data3 = data3.groupby('Team').mean().reset_index()\n",
        "\n",
        "data3"
      ],
      "execution_count": null,
      "outputs": []
    },
    {
      "cell_type": "markdown",
      "metadata": {
        "id": "VXPLp-s8NVhS"
      },
      "source": [
        "상대적으로 양쪽이 동일함"
      ]
    },
    {
      "cell_type": "markdown",
      "metadata": {
        "id": "R_bxvsQMNoBk"
      },
      "source": [
        "4. Kill, Deaths and Assists (KDA)\n",
        "\n",
        "*   Kill : 상대 챔피언을 죽인 횟수\n",
        "*   Deaths : 상대 챔피언에게 죽은 횟수\n",
        "*   Assists : 상대 챔피언을 죽이도록 도와준 횟수\n",
        "\n",
        "\n",
        "\n",
        "\n"
      ]
    },
    {
      "cell_type": "code",
      "metadata": {
        "id": "8tLzPEvaM9lg"
      },
      "source": [
        "col = ['blueKills','blueDeaths','blueAssists','redKills','redDeaths','redAssists']\n",
        "\n",
        "tmp5 = df[col[0:3]].copy()\n",
        "tmp5.columns = ['Kills','Deaths','Assists']\n",
        "tmp5['Team'] = 'Blue'\n",
        "tmp6 = df[col[3:6]].copy()\n",
        "tmp6.columns = ['Kills','Deaths','Assists']\n",
        "tmp6['Team'] = 'Red'\n",
        "\n",
        "data4 = pd.concat([tmp5, tmp6], ignore_index = True)\n",
        "data4 = data4.groupby('Team').mean().reset_index()\n",
        "data4 = pd.melt(data4, id_vars=['Team'], value_vars=['Kills','Deaths','Assists'])\n",
        "data4.columns = ['Team','KDA','Mean']\n",
        "\n",
        "data4"
      ],
      "execution_count": null,
      "outputs": []
    },
    {
      "cell_type": "code",
      "metadata": {
        "id": "-k_qqcTSOgwc"
      },
      "source": [
        "fig = px.bar(data4, x=\"Team\", y=\"Mean\", color=\"Team\", color_discrete_map=color_discrete_map,\n",
        "             facet_col=\"KDA\", title = 'Mean KDA per Team')\n",
        "\n",
        "            \n",
        "fig.show()"
      ],
      "execution_count": null,
      "outputs": []
    },
    {
      "cell_type": "markdown",
      "metadata": {
        "id": "NuWIhOBeWudS"
      },
      "source": [
        "*   kills : 레드팀 < 블루팀\n",
        "*   deaths : 레드팀 > 블루팀\n",
        "*   assists : 레드팀 > 블루팀\n",
        "\n",
        "\n",
        "\n",
        "\n"
      ]
    },
    {
      "cell_type": "markdown",
      "metadata": {
        "id": "1IokztpUXtJx"
      },
      "source": [
        "5. Neutral Monsters\n",
        "\n",
        "\n",
        "> 양 팀 모두에게 공격받을 수 있고, 챔피언에게 공격 받기 전까진 선공하지 않는다. 공격로 미니언보다 능력치가 훨씬 높아 처치하기 까다롭지만 그 만큼 많은 골드와 경험치, 버프를 제공해준다.\n",
        "\n"
      ]
    },
    {
      "cell_type": "code",
      "metadata": {
        "id": "17f6-ojvYud5"
      },
      "source": [
        "col = ['blueEliteMonsters','blueDragons','blueHeralds','redEliteMonsters','redDragons','redHeralds']\n",
        "tmp7 = df[col[0:3]].copy()\n",
        "tmp7.columns = ['EliteMonsters','Dragons','Heralds']\n",
        "tmp7['Team'] = 'Blue'\n",
        "tmp8 = df[col[3:6]].copy()\n",
        "tmp8.columns = ['EliteMonsters','Dragons','Heralds']\n",
        "tmp8['Team'] = 'Red'\n",
        "\n",
        "data5 = pd.concat([tmp7, tmp8], ignore_index = True)\n",
        "data5 = data5.groupby('Team').mean().reset_index()\n",
        "data5 = pd.melt(data5, id_vars=['Team'], value_vars=['EliteMonsters','Dragons','Heralds'])\n",
        "data5.columns = ['Team','NeutralGoals','Mean']\n",
        "data5"
      ],
      "execution_count": null,
      "outputs": []
    },
    {
      "cell_type": "code",
      "metadata": {
        "id": "Ky8Sz6LQZIHm"
      },
      "source": [
        "fig = px.bar(data5, x=\"Team\", y=\"Mean\", color=\"Team\", color_discrete_map=color_discrete_map,\n",
        "             facet_col=\"NeutralGoals\", title = 'Mean Neutral Goals per Team'\n",
        "            )\n",
        "fig.show()"
      ],
      "execution_count": null,
      "outputs": []
    },
    {
      "cell_type": "markdown",
      "metadata": {
        "id": "Q4suINqTZUHk"
      },
      "source": [
        "레드팀은 EliteMonster와 Dragon, 블루팀은 전령을 더 많이 잡는다."
      ]
    },
    {
      "cell_type": "markdown",
      "metadata": {
        "id": "f9ucBOSNa1j2"
      },
      "source": [
        "6. Turrets(포탑/타워)\n",
        "\n",
        "> 상대 챔피언에게 피해를 입히고 그들의 팀에 시야를 제공하여 전장을 더 잘 통제할 수 있게 하며 한 번에 한 유닛을 겨냥해 큰 피해를 입힌다. 각 팀은 적진으로 돌격하기 위해 적 포탑을 파괴해야 합니다.\n",
        "\n"
      ]
    },
    {
      "cell_type": "code",
      "metadata": {
        "id": "RrTGk7JbZI64"
      },
      "source": [
        "col = ['blueTowersDestroyed', 'redTowersDestroyed']\n",
        "tmp9 = df[col[0:1]].copy()\n",
        "tmp9.columns = ['TowersDestroyed']\n",
        "tmp9['Team'] = 'Blue'\n",
        "tmp10 = df[col[1:2]].copy()\n",
        "tmp10.columns = ['TowersDestroyed']\n",
        "tmp10['Team'] = 'Red'\n",
        "\n",
        "data6 = pd.concat([tmp9, tmp10], ignore_index = True)\n",
        "data6 = data6.groupby('Team').mean().reset_index()\n",
        "data6"
      ],
      "execution_count": null,
      "outputs": []
    },
    {
      "cell_type": "code",
      "metadata": {
        "id": "Ev6Bom5_bjLf"
      },
      "source": [
        "fig = px.bar(data6, x=\"Team\", y=\"TowersDestroyed\", color=\"Team\", color_discrete_map=color_discrete_map,title = 'Mean Turrets Destroyed per Team'\n",
        "            )\n",
        "fig.show()"
      ],
      "execution_count": null,
      "outputs": []
    },
    {
      "cell_type": "markdown",
      "metadata": {
        "id": "lhvU3qc9buH1"
      },
      "source": [
        "블루팀이 레드팀보다 훨씬 더 많은 포탑을 파괴하였고, 거의 100개 가량 더 파괴한다.\n",
        "\n",
        "이는 레드팀의 정글몹의 집중이라고 예상할 수 있다."
      ]
    },
    {
      "cell_type": "markdown",
      "metadata": {
        "id": "NdS5QNShcQAx"
      },
      "source": [
        "7. Golds\n",
        "\n",
        "\n",
        "> 챔피언에게 보너스 통계와 능력을 제공하는 아이템을 구입하는 데 사용되며, 이는 챔피언이 경기 진행 중에 힘을 키우는 주력이다.\n",
        "\n",
        "\n"
      ]
    },
    {
      "cell_type": "code",
      "metadata": {
        "id": "BqIjbmTTbk7k"
      },
      "source": [
        "col = ['blueTotalGold', 'redTotalGold']\n",
        "tmp11 = df[col[0:1]].copy()\n",
        "tmp11.columns = ['TotalGold']\n",
        "tmp11['Team'] = 'Blue'\n",
        "tmp12 = df[col[1:2]].copy()\n",
        "tmp12.columns = ['TotalGold']\n",
        "tmp12['Team'] = 'Red'\n",
        "\n",
        "data7 = pd.concat([tmp11, tmp12], ignore_index = True)\n",
        "data7 = data7.groupby('Team').mean().reset_index()\n",
        "data7"
      ],
      "execution_count": null,
      "outputs": []
    },
    {
      "cell_type": "code",
      "metadata": {
        "id": "Br4sq-lyce4W"
      },
      "source": [
        "fig = px.bar(data7, x=\"Team\", y=\"TotalGold\", color=\"Team\", color_discrete_map=color_discrete_map,title = 'Mean Gold per Team'\n",
        "            )\n",
        "fig.show()"
      ],
      "execution_count": null,
      "outputs": []
    },
    {
      "cell_type": "markdown",
      "metadata": {
        "id": "D8TtPSFDdEII"
      },
      "source": [
        "8. Leveling and Experiance\n",
        "\n",
        "\n",
        "> 챔피언 경험(XP)은 챔피언이 일정 경력에 도달하면 레벨업할 수 있는 게임 메카닉이다. 레벨업을 통해 새로운 능력이나 기존 능력의 상위 등급에 접근할 수 있습니다. \n",
        "\n"
      ]
    },
    {
      "cell_type": "code",
      "metadata": {
        "id": "hPg-1rFEcnag"
      },
      "source": [
        "#Leveling\n",
        "col = ['blueAvgLevel', 'redAvgLevel']\n",
        "tmp13 = df[col[0:1]].copy()\n",
        "tmp13.columns = ['AvgLevel']\n",
        "tmp13['Team'] = 'Blue'\n",
        "tmp14 = df[col[1:2]].copy()\n",
        "tmp14.columns = ['AvgLevel']\n",
        "tmp14['Team'] = 'Red'\n",
        "\n",
        "data8 = pd.concat([tmp13, tmp14], ignore_index = True)\n",
        "data8 = data8.groupby('Team').mean().reset_index()\n",
        "data8"
      ],
      "execution_count": null,
      "outputs": []
    },
    {
      "cell_type": "code",
      "metadata": {
        "id": "fbVqIJ_Wdfj8"
      },
      "source": [
        "#Experience\n",
        "col = ['blueTotalExperience', 'redTotalExperience']\n",
        "tmp15 = df[col[0:1]].copy()\n",
        "tmp15.columns = ['TotalExperience']\n",
        "tmp15['Team'] = 'Blue'\n",
        "tmp16 = df[col[1:2]].copy()\n",
        "tmp16.columns = ['TotalExperience']\n",
        "tmp16['Team'] = 'Red'\n",
        "\n",
        "data9 = pd.concat([tmp15, tmp16], ignore_index = True)\n",
        "data9 = data9.groupby('Team').mean().reset_index()\n",
        "data9"
      ],
      "execution_count": null,
      "outputs": []
    },
    {
      "cell_type": "markdown",
      "metadata": {
        "id": "QzesorJUd_Ua"
      },
      "source": [
        "9. Minions Farme \n"
      ]
    },
    {
      "cell_type": "markdown",
      "metadata": {
        "id": "WMHvHqrAeMsB"
      },
      "source": [
        "**Winning Condition** \n",
        "\n",
        " 1) Blue Team Heatmap "
      ]
    },
    {
      "cell_type": "code",
      "metadata": {
        "id": "xkWiyYszd1x1"
      },
      "source": [
        "corr = df[[col for col in df.columns if 'blue' in col and col != 'blueWins']].corr()\n",
        "f,ax = plt.subplots(figsize=(10, 10))\n",
        "p = sns.heatmap(corr,\n",
        "                cmap='coolwarm',\n",
        "                annot=True,\n",
        "                fmt=\".1f\",\n",
        "                annot_kws={'size':10},\n",
        "                cbar=False,\n",
        "                ax=ax)\n",
        "p.set_title('Blue Team Features Correlation')"
      ],
      "execution_count": null,
      "outputs": []
    },
    {
      "cell_type": "markdown",
      "metadata": {
        "id": "G4clKlW7fBkF"
      },
      "source": [
        "1. Positive correlation between total gold and gold per minute, gold diff, total experience, assists and kills. and correlate negatively with Deaths.\n",
        "\n",
        "2. Positive correlation between elite monsters and dragons.\n",
        "\n",
        "3. Positive correlation between golds per minute and kills.\n",
        "\n",
        "4. negative correlation between deaths and gold diff, experience diff."
      ]
    },
    {
      "cell_type": "markdown",
      "metadata": {
        "id": "yAqqV1jSf3aB"
      },
      "source": [
        "2) Red Team Heatmap"
      ]
    },
    {
      "cell_type": "code",
      "metadata": {
        "id": "yysOEe8UegWm"
      },
      "source": [
        "corr = df[[col for col in df.columns if 'red' in col and col != 'blueWins']].corr()\n",
        "f,ax = plt.subplots(figsize=(10, 10))\n",
        "p = sns.heatmap(corr,\n",
        "                cmap='coolwarm',\n",
        "                annot=True,\n",
        "                fmt=\".1f\",\n",
        "                annot_kws={'size':10},\n",
        "                cbar=False,\n",
        "                ax=ax)"
      ],
      "execution_count": null,
      "outputs": []
    },
    {
      "cell_type": "markdown",
      "metadata": {
        "id": "0PHDFR36gSm3"
      },
      "source": [
        "3) 승리와 패배의 상관관계"
      ]
    },
    {
      "cell_type": "code",
      "metadata": {
        "id": "lPvk9KH0gIHw"
      },
      "source": [
        "df['blueWins']"
      ],
      "execution_count": null,
      "outputs": []
    },
    {
      "cell_type": "code",
      "metadata": {
        "id": "hQcum7rzgfcf"
      },
      "source": [
        "blue_win = df[[col for col in df.columns if col != 'blueWins']].corrwith(df['blueWins']).to_frame().sort_values(by = 0, ascending = False)\n",
        "blue_win = pd.concat([blue_win.head(5), blue_win.tail(5)])\n",
        "blue_win.columns = ['Blue Win Correlation']\n",
        "blue_win"
      ],
      "execution_count": null,
      "outputs": []
    },
    {
      "cell_type": "code",
      "metadata": {
        "id": "T7FMHxCuglgS"
      },
      "source": [
        "red_win = df[[col for col in df.columns if col != 'blueWins']].corrwith(df['blueWins'].map({0:1, 1:0})).to_frame().sort_values(by = 0, ascending = False)\n",
        "red_win = pd.concat([red_win.head(5), red_win.tail(5)])\n",
        "red_win.columns = ['Red Win Correlation']\n",
        "red_win"
      ],
      "execution_count": null,
      "outputs": []
    },
    {
      "cell_type": "code",
      "metadata": {
        "id": "LBR8jTxVgst4"
      },
      "source": [
        "fig = plt.figure(figsize=(25,10))\n",
        "ax1 = fig.add_subplot(121)\n",
        "ax2 = fig.add_subplot(122)\n",
        "\n",
        "plt.figure(figsize=(6,6))\n",
        "\n",
        "sns.heatmap(blue_win,\n",
        "            vmin=-1,\n",
        "            cmap='coolwarm',\n",
        "            annot=True,\n",
        "           ax = ax1);\n",
        "\n",
        "sns.heatmap(red_win,\n",
        "            vmin=-1,\n",
        "            cmap='coolwarm',\n",
        "            annot=True,\n",
        "           ax = ax2);"
      ],
      "execution_count": null,
      "outputs": []
    },
    {
      "cell_type": "markdown",
      "metadata": {
        "id": "oXb2AX69tghu"
      },
      "source": [
        "경험치나 골드에서 한 팀이 훨씬 더 많은 것이 승리할 가능성이 높다."
      ]
    },
    {
      "cell_type": "markdown",
      "metadata": {
        "id": "-lATxE62hip9"
      },
      "source": [
        "**Modeling**"
      ]
    },
    {
      "cell_type": "code",
      "metadata": {
        "id": "3Bc1hW-ogyNE"
      },
      "source": [
        "X = df.drop(['blueWins', 'gameId'], axis=1)\n",
        "y = df.blueWins"
      ],
      "execution_count": null,
      "outputs": []
    },
    {
      "cell_type": "code",
      "metadata": {
        "id": "mUMDbmuRuwuM"
      },
      "source": [
        "def bayes_parameter_opt_lgb(X = X, y = y, init_round=15, opt_round=25, n_folds=5, random_seed=6, n_estimators=10000, learning_rate=0.05, output_process=False):\n",
        "    # prepare data\n",
        "    train_data = lgb.Dataset(data=X, label=y, free_raw_data=False)\n",
        "    # parameters\n",
        "    def lgb_eval(num_leaves, feature_fraction, bagging_fraction, max_depth, lambda_l1, lambda_l2, min_split_gain, min_child_weight):\n",
        "        params = {'application':'binary','num_iterations': n_estimators, 'learning_rate':learning_rate, 'early_stopping_round':100, 'metric':'auc'}\n",
        "        params[\"num_leaves\"] = int(round(num_leaves))\n",
        "        params['feature_fraction'] = max(min(feature_fraction, 1), 0)\n",
        "        params['bagging_fraction'] = max(min(bagging_fraction, 1), 0)\n",
        "        params['max_depth'] = int(round(max_depth))\n",
        "        params['lambda_l1'] = max(lambda_l1, 0)\n",
        "        params['lambda_l2'] = max(lambda_l2, 0)\n",
        "        params['min_split_gain'] = min_split_gain\n",
        "        params['min_child_weight'] = min_child_weight\n",
        "        cv_result = lgb.cv(params, train_data, nfold=n_folds, seed=random_seed, stratified=True, verbose_eval =200, metrics=['auc'])\n",
        "        return max(cv_result['auc-mean'])    \n",
        "    # range \n",
        "    lgbBO = BayesianOptimization(lgb_eval, {'num_leaves': (24, 45),\n",
        "                                            'feature_fraction': (0.1, 0.9),\n",
        "                                            'bagging_fraction': (0.8, 1),\n",
        "                                            'max_depth': (5, 8.99),\n",
        "                                            'lambda_l1': (0, 5),\n",
        "                                            'lambda_l2': (0, 3),\n",
        "                                            'min_split_gain': (0.001, 0.1),\n",
        "                                            'min_child_weight': (5, 50)}, random_state=0)\n",
        "    # optimize\n",
        "    lgbBO.maximize(init_points=init_round, n_iter=opt_round)\n",
        "    \n",
        "    # output optimization process\n",
        "    if output_process==True: lgbBO.points_to_csv(\"bayes_opt_result.csv\")\n",
        "    \n",
        "    # return best parameters\n",
        "    return lgbBO\n",
        "\n",
        "opt_params = bayes_parameter_opt_lgb(X, y, init_round=5, opt_round=10, n_folds=3, random_seed=6, n_estimators=100, learning_rate=0.05)"
      ],
      "execution_count": null,
      "outputs": []
    },
    {
      "cell_type": "code",
      "metadata": {
        "id": "u9zZ4G4xvM5p"
      },
      "source": [
        "params = opt_params.max['params']\n",
        "params[\"num_leaves\"] = int(round(params['num_leaves']))\n",
        "params['feature_fraction'] = max(min(params['feature_fraction'], 1), 0)\n",
        "params['bagging_fraction'] = max(min(params['bagging_fraction'], 1), 0)\n",
        "params['max_depth'] = int(round(params['max_depth']))\n",
        "params['lambda_l1'] = max(params['lambda_l1'], 0)\n",
        "params['lambda_l2'] = max(params['lambda_l2'], 0)\n",
        "params['min_split_gain'] = max(params['min_split_gain'], 0)\n",
        "params['min_child_weight'] = max(params['min_child_weight'], 0)\n",
        "params['num_iterations'] = int(round(10000))\n",
        "params['learning_rate'] = max(0.05, 0)\n",
        "params['application'] = 'binary'\n",
        "params['metric'] = 'auc'\n",
        "params['objective'] = 'binary'"
      ],
      "execution_count": null,
      "outputs": []
    },
    {
      "cell_type": "code",
      "metadata": {
        "id": "jP7t8TdbvPJG"
      },
      "source": [
        "train_data = lgb.Dataset(data=X, label=y, free_raw_data=True, feature_name = [col for col in df.columns if col!= 'gameId' and col!= 'blueWins'])\n",
        "model = lgb.train(params, train_data)"
      ],
      "execution_count": null,
      "outputs": []
    },
    {
      "cell_type": "code",
      "metadata": {
        "id": "loIg16fNvVrD"
      },
      "source": [
        "ax = lgb.plot_importance(model, max_num_features=10, figsize = (15,15))\n",
        "plt.show()"
      ],
      "execution_count": null,
      "outputs": []
    },
    {
      "cell_type": "markdown",
      "metadata": {
        "id": "gRjwMRqvvdG6"
      },
      "source": [
        "가장 중요한 특징은 총 경험치, 총 골드량, 그리고 처치한 미니언들이다."
      ]
    },
    {
      "cell_type": "markdown",
      "metadata": {
        "id": "1-tAfzk4k1Ev"
      },
      "source": [
        "**모델이 실제 차이와 비교했을 때 어떻게 승패를 구별할 수 있는지 비교**\n",
        "\n",
        "3D 산란을 이용한 플롯팅 \n",
        "\n",
        "```파란색 : 승,  빨간색 : 패```"
      ]
    },
    {
      "cell_type": "code",
      "metadata": {
        "id": "Gi93qs4Qh6Ql"
      },
      "source": [
        "pred = np.round(model.predict(X)).astype(int)\n",
        "data_test = TSNE(n_components=3).fit_transform(X)"
      ],
      "execution_count": null,
      "outputs": []
    },
    {
      "cell_type": "code",
      "metadata": {
        "id": "rfKVFPEblJMN"
      },
      "source": [
        "predicted = pd.DataFrame(data_test)\n",
        "predicted['output'] = pred\n",
        "predicted['output'] = predicted['output'].astype(object)\n",
        "predicted['output'] = predicted['output'].map({0: \"Red Wins\",1: \"Blue Wins\"})\n",
        "predicted['flag'] = 'predicted'\n",
        "predicted.columns = ['dim_1','dim_2','dim_3','output', 'flag']\n",
        "\n",
        "real = pd.DataFrame(data_test)\n",
        "real['output'] = y.values\n",
        "real['output'] = real['output'].astype(object)\n",
        "real['output'] = real['output'].map({0: \"Red Wins\",1: \"Blue Wins\"})\n",
        "real['flag'] = 'real'\n",
        "real.columns = ['dim_1','dim_2','dim_3','output', 'flag']\n",
        "\n",
        "data_3d = pd.concat([predicted,real], ignore_index = True).sample(4000)"
      ],
      "execution_count": null,
      "outputs": []
    },
    {
      "cell_type": "code",
      "metadata": {
        "id": "Hvwz6k6jlNAz"
      },
      "source": [
        "color_discrete_map = {\"Blue Wins\": 'rgb(122, 148, 231)', \"Red Wins\": 'rgb(255, 105, 97)'}\n",
        "\n",
        "fig1 = px.scatter_3d(predicted, x='dim_1', y='dim_2', z='dim_3', color_discrete_map=color_discrete_map,color='output', title = 'How Model Distinct Wins and Loses')\n",
        "fig2 = px.scatter_3d(real, x='dim_1', y='dim_2', z='dim_3',color_discrete_map=color_discrete_map,color='output', title = 'Real Distinction Between Wins and Loses')\n",
        "\n",
        "fig1.show()\n",
        "fig2.show()"
      ],
      "execution_count": null,
      "outputs": []
    },
    {
      "cell_type": "markdown",
      "metadata": {
        "id": "8gKCXnOHlSch"
      },
      "source": [
        "포인트가 약간 얽혀있지만 한쪽이 더 파란색이고 다른 한쪽은 빨간색이 더 많이 섞여있는 것을 볼 수 있다.\n"
      ]
    },
    {
      "cell_type": "markdown",
      "metadata": {
        "id": "9Eu_cNVHlSxj"
      },
      "source": [
        "**결론**\n",
        "\n",
        "양팀 모두 상당히 균등하지만 그중에서도 블루팀은 더 많은 골드와 킬의 혜택을 받으며 레드팀은 더 많은 정글몹과 경험치, CS의 혜택을 받는다."
      ]
    }
  ]
}